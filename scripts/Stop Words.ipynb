{
 "cells": [
  {
   "cell_type": "code",
   "execution_count": 1,
   "metadata": {
    "collapsed": true
   },
   "outputs": [],
   "source": [
    "from nltk.corpus import stopwords\n",
    "from nltk import sent_tokenize, word_tokenize"
   ]
  },
  {
   "cell_type": "code",
   "execution_count": 3,
   "metadata": {},
   "outputs": [],
   "source": [
    "example_text = \"this is the sample text to use stop words.\"\n",
    "stop_words = set(stopwords.words(\"english\"))"
   ]
  },
  {
   "cell_type": "code",
   "execution_count": 5,
   "metadata": {},
   "outputs": [
    {
     "name": "stdout",
     "output_type": "stream",
     "text": [
      "{'while', \"hadn't\", 'with', 'than', \"wouldn't\", \"weren't\", 'a', 'ourselves', 'off', 'do', 'll', \"mightn't\", \"won't\", 'as', 'when', \"hasn't\", 'am', 're', 'some', \"shouldn't\", 'too', 'itself', 'which', 'to', 'out', 'shouldn', 'yours', 'this', 'doesn', 'yourselves', 'up', 'me', 'ours', 'wasn', 'y', \"shan't\", 'between', 'myself', \"couldn't\", 'during', 'should', 'for', 'both', 'about', 'any', 'its', 'will', \"isn't\", 'because', 'm', 'further', 've', 'we', 'each', 'most', 'that', 'down', \"wasn't\", 'hers', 'himself', 'had', 'did', 'now', 'been', 'is', 'be', 'the', 'it', 'under', \"didn't\", 'd', 'if', \"aren't\", 'i', 'them', 'what', 'were', 'on', 'ma', 'of', 'very', 'at', 'doing', 'his', \"don't\", 'before', 'didn', 'don', 'who', 'after', 'but', 'how', 'yourself', 'other', 'below', \"mustn't\", 'into', \"you're\", 'an', 'just', \"it's\", 'not', 'your', 'such', 'above', 'over', 'only', 'themselves', 'being', 'you', 'they', 'theirs', \"doesn't\", 'these', 'from', 'why', 'no', 'then', 'needn', 'hadn', 'until', 'can', 'won', 'hasn', 'ain', 'our', 'haven', 'in', 'there', 'nor', \"she's\", 'again', 'she', 'having', 'and', 'through', 'wouldn', \"you'd\", 'few', 'are', 'he', 'him', \"that'll\", 'mightn', \"you'll\", 'does', 'have', 'those', 'weren', 'shan', 'mustn', 'whom', 's', 'their', 'by', 'where', 'my', \"needn't\", 'her', 'herself', 'same', 'was', 'couldn', \"you've\", 'against', 'o', 'so', 'has', 'or', 'here', 'once', 't', 'aren', 'more', 'all', \"should've\", \"haven't\", 'own', 'isn'}\n"
     ]
    }
   ],
   "source": [
    "print(stop_words)"
   ]
  },
  {
   "cell_type": "code",
   "execution_count": 7,
   "metadata": {},
   "outputs": [
    {
     "name": "stdout",
     "output_type": "stream",
     "text": [
      "filtered tokenized sentence is ['sample', 'text', 'use', 'stop', 'words', '.']\n"
     ]
    }
   ],
   "source": [
    "words = word_tokenize(example_text)\n",
    "filtered = []\n",
    "for word in words:\n",
    "    if word not in stop_words:\n",
    "        filtered.append(word)\n",
    "print('filtered tokenized sentence is', filtered)"
   ]
  },
  {
   "cell_type": "code",
   "execution_count": 8,
   "metadata": {},
   "outputs": [
    {
     "name": "stdout",
     "output_type": "stream",
     "text": [
      "['sample', 'text', 'use', 'stop', 'words', '.']\n"
     ]
    }
   ],
   "source": [
    "filtered_2 = [w for w in words if not w in stop_words]\n",
    "print(filtered_2)"
   ]
  },
  {
   "cell_type": "code",
   "execution_count": null,
   "metadata": {
    "collapsed": true
   },
   "outputs": [],
   "source": []
  }
 ],
 "metadata": {
  "kernelspec": {
   "display_name": "Python 3",
   "language": "python",
   "name": "python3"
  },
  "language_info": {
   "codemirror_mode": {
    "name": "ipython",
    "version": 3
   },
   "file_extension": ".py",
   "mimetype": "text/x-python",
   "name": "python",
   "nbconvert_exporter": "python",
   "pygments_lexer": "ipython3",
   "version": "3.6.3"
  }
 },
 "nbformat": 4,
 "nbformat_minor": 2
}
